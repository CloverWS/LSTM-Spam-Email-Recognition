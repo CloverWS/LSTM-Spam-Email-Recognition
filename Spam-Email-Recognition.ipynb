{
  "nbformat": 4,
  "nbformat_minor": 0,
  "metadata": {
    "colab": {
      "name": "Untitled1.ipynb",
      "provenance": [],
      "collapsed_sections": [],
      "authorship_tag": "ABX9TyOyHoQOSbDHUJtQ980pQQIB",
      "include_colab_link": true
    },
    "kernelspec": {
      "name": "python3",
      "display_name": "Python 3"
    }
  },
  "cells": [
    {
      "cell_type": "markdown",
      "metadata": {
        "id": "view-in-github",
        "colab_type": "text"
      },
      "source": [
        "<a href=\"https://colab.research.google.com/github/CloverWS/LSTM-Spam-Email-Recognition/blob/master/Spam-Email-Recognition.ipynb\" target=\"_parent\"><img src=\"https://colab.research.google.com/assets/colab-badge.svg\" alt=\"Open In Colab\"/></a>"
      ]
    },
    {
      "cell_type": "code",
      "metadata": {
        "id": "siGPqeBDgGHJ",
        "colab_type": "code",
        "colab": {
          "base_uri": "https://localhost:8080/",
          "height": 204
        },
        "outputId": "2f4eee4b-3def-4690-ba69-48bcee10d478"
      },
      "source": [
        "import os\n",
        "import pandas as pd\n",
        "import numpy as np\n",
        "\n",
        "data=pd.read_csv('email.csv')\n",
        "from sklearn.utils import shuffle\n",
        "data = shuffle(data)\n",
        "data.head()"
      ],
      "execution_count": 1,
      "outputs": [
        {
          "output_type": "execute_result",
          "data": {
            "text/html": [
              "<div>\n",
              "<style scoped>\n",
              "    .dataframe tbody tr th:only-of-type {\n",
              "        vertical-align: middle;\n",
              "    }\n",
              "\n",
              "    .dataframe tbody tr th {\n",
              "        vertical-align: top;\n",
              "    }\n",
              "\n",
              "    .dataframe thead th {\n",
              "        text-align: right;\n",
              "    }\n",
              "</style>\n",
              "<table border=\"1\" class=\"dataframe\">\n",
              "  <thead>\n",
              "    <tr style=\"text-align: right;\">\n",
              "      <th></th>\n",
              "      <th>email</th>\n",
              "      <th>label</th>\n",
              "    </tr>\n",
              "  </thead>\n",
              "  <tbody>\n",
              "    <tr>\n",
              "      <th>4836</th>\n",
              "      <td>Subject: using claal 1 s ; somma vlcodd 1 n vl...</td>\n",
              "      <td>0</td>\n",
              "    </tr>\n",
              "    <tr>\n",
              "      <th>3402</th>\n",
              "      <td>Subject: fw : june 2001 blue dolphindarren you...</td>\n",
              "      <td>1</td>\n",
              "    </tr>\n",
              "    <tr>\n",
              "      <th>2885</th>\n",
              "      <td>Subject: fw : calpine monthly average revisedd...</td>\n",
              "      <td>1</td>\n",
              "    </tr>\n",
              "    <tr>\n",
              "      <th>1045</th>\n",
              "      <td>Subject: re : vacationi will leave the choice ...</td>\n",
              "      <td>1</td>\n",
              "    </tr>\n",
              "    <tr>\n",
              "      <th>3684</th>\n",
              "      <td>Subject: enjoy itgeneric viagra at cheap price...</td>\n",
              "      <td>0</td>\n",
              "    </tr>\n",
              "  </tbody>\n",
              "</table>\n",
              "</div>"
            ],
            "text/plain": [
              "                                                  email  label\n",
              "4836  Subject: using claal 1 s ; somma vlcodd 1 n vl...      0\n",
              "3402  Subject: fw : june 2001 blue dolphindarren you...      1\n",
              "2885  Subject: fw : calpine monthly average revisedd...      1\n",
              "1045  Subject: re : vacationi will leave the choice ...      1\n",
              "3684  Subject: enjoy itgeneric viagra at cheap price...      0"
            ]
          },
          "metadata": {
            "tags": []
          },
          "execution_count": 1
        }
      ]
    },
    {
      "cell_type": "code",
      "metadata": {
        "id": "6oVkrqFNgR1v",
        "colab_type": "code",
        "colab": {}
      },
      "source": [
        "from keras.preprocessing.text import Tokenizer\n",
        "tokenizer = Tokenizer(num_words=1000)\n",
        "tokenizer.fit_on_texts(data['email'].values)\n",
        "sequences = tokenizer.texts_to_sequences(data['email'].values)"
      ],
      "execution_count": 19,
      "outputs": []
    },
    {
      "cell_type": "code",
      "metadata": {
        "id": "R7SFixJhhZWf",
        "colab_type": "code",
        "colab": {}
      },
      "source": [
        "from sklearn.model_selection import train_test_split\n",
        "x_train, x_test, y_train, y_test = train_test_split(sequences,data['label'].values, test_size = 0.20, random_state = 42)"
      ],
      "execution_count": 5,
      "outputs": []
    },
    {
      "cell_type": "code",
      "metadata": {
        "id": "Fil3kz9ygkqp",
        "colab_type": "code",
        "colab": {
          "base_uri": "https://localhost:8080/",
          "height": 143
        },
        "outputId": "68285f92-07d0-4986-cb6e-0732634e2b8e"
      },
      "source": [
        "\n",
        "maxlen = 20\n",
        "from keras import preprocessing\n",
        "x_train = preprocessing.sequence.pad_sequences(x_train, maxlen=maxlen)\n",
        "x_test = preprocessing.sequence.pad_sequences(x_test, maxlen=maxlen)\n",
        "x_train"
      ],
      "execution_count": 20,
      "outputs": [
        {
          "output_type": "execute_result",
          "data": {
            "text/plain": [
              "array([[331,  44, 796, ..., 623,   7,  44],\n",
              "       [726,  38, 568, ..., 156, 226,  31],\n",
              "       [ 46,  17, 672, ..., 126,  46,  17],\n",
              "       ...,\n",
              "       [317, 441,  55, ...,  52, 102, 154],\n",
              "       [ 62, 189,  56, ..., 834,   7,  31],\n",
              "       [160,  94,   4, ...,   3,  17,  31]], dtype=int32)"
            ]
          },
          "metadata": {
            "tags": []
          },
          "execution_count": 20
        }
      ]
    },
    {
      "cell_type": "code",
      "metadata": {
        "id": "-LEo-AAggnW5",
        "colab_type": "code",
        "colab": {
          "base_uri": "https://localhost:8080/",
          "height": 449
        },
        "outputId": "8f158ec4-6e4d-4231-8547-d42c99c07ade"
      },
      "source": [
        "from keras.models import Sequential\n",
        "from keras.layers import Flatten, Dense\n",
        "from keras.layers import Embedding,LSTM\n",
        "model = Sequential()\n",
        "model.add(Embedding(2000, 8, input_length=maxlen))\n",
        "model.add(LSTM(100, dropout=0.2, recurrent_dropout=0.2))\n",
        "model.add(Dense(1, activation='sigmoid'))\n",
        "model.compile(optimizer='adam', loss='binary_crossentropy', metrics=['accuracy'])\n",
        "model.summary()\n",
        "history = model.fit(x_train, y_train,\n",
        "                    epochs=5,\n",
        "                    batch_size=32,\n",
        "                    validation_split=0.2)"
      ],
      "execution_count": 14,
      "outputs": [
        {
          "output_type": "stream",
          "text": [
            "Model: \"sequential_2\"\n",
            "_________________________________________________________________\n",
            "Layer (type)                 Output Shape              Param #   \n",
            "=================================================================\n",
            "embedding_2 (Embedding)      (None, 20, 8)             16000     \n",
            "_________________________________________________________________\n",
            "lstm_2 (LSTM)                (None, 100)               43600     \n",
            "_________________________________________________________________\n",
            "dense_2 (Dense)              (None, 1)                 101       \n",
            "=================================================================\n",
            "Total params: 59,701\n",
            "Trainable params: 59,701\n",
            "Non-trainable params: 0\n",
            "_________________________________________________________________\n",
            "Epoch 1/5\n",
            "104/104 [==============================] - 4s 41ms/step - loss: 0.4740 - accuracy: 0.7809 - val_loss: 0.2983 - val_accuracy: 0.9118\n",
            "Epoch 2/5\n",
            "104/104 [==============================] - 4s 37ms/step - loss: 0.2095 - accuracy: 0.9217 - val_loss: 0.1588 - val_accuracy: 0.9324\n",
            "Epoch 3/5\n",
            "104/104 [==============================] - 4s 38ms/step - loss: 0.1538 - accuracy: 0.9426 - val_loss: 0.1470 - val_accuracy: 0.9432\n",
            "Epoch 4/5\n",
            "104/104 [==============================] - 4s 37ms/step - loss: 0.1140 - accuracy: 0.9604 - val_loss: 0.1380 - val_accuracy: 0.9444\n",
            "Epoch 5/5\n",
            "104/104 [==============================] - 4s 37ms/step - loss: 0.0913 - accuracy: 0.9692 - val_loss: 0.1654 - val_accuracy: 0.9372\n"
          ],
          "name": "stdout"
        }
      ]
    },
    {
      "cell_type": "code",
      "metadata": {
        "id": "FbHh4WQgg5Is",
        "colab_type": "code",
        "colab": {
          "base_uri": "https://localhost:8080/",
          "height": 71
        },
        "outputId": "97f1d585-bcd5-460d-a79f-53077a85a3b1"
      },
      "source": [
        "result=model.evaluate(x_test,y_test)\n",
        "print(\"test loss:{}\\ntest accuracy:{}\".format(result[0],result[1]))"
      ],
      "execution_count": 15,
      "outputs": [
        {
          "output_type": "stream",
          "text": [
            "33/33 [==============================] - 0s 5ms/step - loss: 0.1626 - accuracy: 0.9333\n",
            "test loss:0.16258470714092255\n",
            "test accuracy:0.9333333373069763\n"
          ],
          "name": "stdout"
        }
      ]
    },
    {
      "cell_type": "code",
      "metadata": {
        "id": "PQyKXnoliEaX",
        "colab_type": "code",
        "colab": {
          "base_uri": "https://localhost:8080/",
          "height": 281
        },
        "outputId": "b7fc3cac-d30a-42ca-866e-3da8e4b14f65"
      },
      "source": [
        "import matplotlib.pyplot as plt\n",
        "plt.title('Loss')\n",
        "plt.plot(history.history['loss'], label='train')\n",
        "plt.plot(history.history['val_loss'], label='test')\n",
        "plt.legend()\n",
        "plt.show()"
      ],
      "execution_count": 10,
      "outputs": [
        {
          "output_type": "display_data",
          "data": {
            "image/png": "[encoded data removed]",
            "text/plain": [
              "<Figure size 432x288 with 1 Axes>"
            ]
          },
          "metadata": {
            "tags": [],
            "needs_background": "light"
          }
        }
      ]
    },
    {
      "cell_type": "code",
      "metadata": {
        "id": "Jd7Gs06BjH28",
        "colab_type": "code",
        "colab": {
          "base_uri": "https://localhost:8080/",
          "height": 281
        },
        "outputId": "8f65e9a8-dc1d-432a-a733-f203779ad5bc"
      },
      "source": [
        "plt.title('Accuracy')\n",
        "plt.plot(history.history['accuracy'], label='train')\n",
        "plt.plot(history.history['val_accuracy'], label='test')\n",
        "plt.legend()\n",
        "plt.show()"
      ],
      "execution_count": 11,
      "outputs": [
        {
          "output_type": "display_data",
          "data": {
            "image/png": "[encoded data removed]",
            "text/plain": [
              "<Figure size 432x288 with 1 Axes>"
            ]
          },
          "metadata": {
            "tags": [],
            "needs_background": "light"
          }
        }
      ]
    }
  ]
}